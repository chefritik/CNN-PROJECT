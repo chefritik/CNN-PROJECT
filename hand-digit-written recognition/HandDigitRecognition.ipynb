{
  "nbformat": 4,
  "nbformat_minor": 0,
  "metadata": {
    "colab": {
      "name": "HandDigitRecognition.ipynb",
      "provenance": [],
      "collapsed_sections": [],
      "toc_visible": true
    },
    "kernelspec": {
      "name": "python3",
      "display_name": "Python 3"
    },
    "accelerator": "GPU"
  },
  "cells": [
    {
      "cell_type": "markdown",
      "metadata": {
        "id": "Hmh0ujOSCMGl"
      },
      "source": [
        "##                                    **HAND-WRIITEN DIGIT RECOGNITION** \r\n"
      ]
    },
    {
      "cell_type": "markdown",
      "metadata": {
        "id": "t2zjGC8LBdhZ"
      },
      "source": [
        "## The project task is to recognize hand-written-digit\r\n",
        "## The dataset we is mnist which available in keras\r\n",
        "## The images are in grayscale i.e. one color channel\r\n",
        "## I have use CNN to classify images"
      ]
    },
    {
      "cell_type": "code",
      "metadata": {
        "id": "aMHFDZhGJy3G"
      },
      "source": [
        "import numpy as np\r\n",
        "import pandas as pd\r\n",
        "import matplotlib.pyplot as plt\r\n",
        "%matplotlib inline\r\n",
        "import tensorflow as tf"
      ],
      "execution_count": 49,
      "outputs": []
    },
    {
      "cell_type": "code",
      "metadata": {
        "id": "ydU6NNrAKehE"
      },
      "source": [
        "from tensorflow.keras.datasets import mnist"
      ],
      "execution_count": 50,
      "outputs": []
    },
    {
      "cell_type": "code",
      "metadata": {
        "id": "c5iIsKS4KkO9"
      },
      "source": [
        "(x_train,y_train),(x_test,y_test)=mnist.load_data()"
      ],
      "execution_count": 51,
      "outputs": []
    },
    {
      "cell_type": "markdown",
      "metadata": {
        "id": "eVWhVQ8kCf4x"
      },
      "source": [
        "## Preprocessing-Data"
      ]
    },
    {
      "cell_type": "code",
      "metadata": {
        "id": "inVE1HuTLfXI"
      },
      "source": [
        "single_image=x_train[1]"
      ],
      "execution_count": 52,
      "outputs": []
    },
    {
      "cell_type": "code",
      "metadata": {
        "colab": {
          "base_uri": "https://localhost:8080/",
          "height": 282
        },
        "id": "i8InTSBtMV76",
        "outputId": "a48622f1-e375-4c22-da39-ba0835f771ab"
      },
      "source": [
        "plt.imshow(single_image)"
      ],
      "execution_count": 53,
      "outputs": [
        {
          "output_type": "execute_result",
          "data": {
            "text/plain": [
              "<matplotlib.image.AxesImage at 0x7fa3cd4ab5f8>"
            ]
          },
          "metadata": {
            "tags": []
          },
          "execution_count": 53
        },
        {
          "output_type": "display_data",
          "data": {
            "image/png": "[encoded data removed]",
            "text/plain": [
              "<Figure size 432x288 with 1 Axes>"
            ]
          },
          "metadata": {
            "tags": [],
            "needs_background": "light"
          }
        }
      ]
    },
    {
      "cell_type": "code",
      "metadata": {
        "id": "4XjWJtUq217D"
      },
      "source": [
        "y_train1=y_train\r\n",
        "y_test1=y_test"
      ],
      "execution_count": 54,
      "outputs": []
    },
    {
      "cell_type": "code",
      "metadata": {
        "id": "KkG8Yvx0NuOR"
      },
      "source": [
        "y_test=pd.get_dummies(y_test).values"
      ],
      "execution_count": 55,
      "outputs": []
    },
    {
      "cell_type": "code",
      "metadata": {
        "id": "aeC4Ly-GScdY"
      },
      "source": [
        "y_train=pd.get_dummies(y_train).values"
      ],
      "execution_count": 56,
      "outputs": []
    },
    {
      "cell_type": "code",
      "metadata": {
        "id": "CnI45rMbR5sY"
      },
      "source": [
        "from tensorflow.keras.utils import to_categorical"
      ],
      "execution_count": 57,
      "outputs": []
    },
    {
      "cell_type": "code",
      "metadata": {
        "id": "DYFMOWQjSDAb"
      },
      "source": [
        "## to_categorical(y_te)"
      ],
      "execution_count": 58,
      "outputs": []
    },
    {
      "cell_type": "code",
      "metadata": {
        "colab": {
          "base_uri": "https://localhost:8080/"
        },
        "id": "3V-u-q4YSKjN",
        "outputId": "5a3384e8-6348-4520-c91b-599b106913b4"
      },
      "source": [
        "y_test.shape"
      ],
      "execution_count": 59,
      "outputs": [
        {
          "output_type": "execute_result",
          "data": {
            "text/plain": [
              "(10000, 10)"
            ]
          },
          "metadata": {
            "tags": []
          },
          "execution_count": 59
        }
      ]
    },
    {
      "cell_type": "code",
      "metadata": {
        "id": "e77AstmWS3Ey"
      },
      "source": [
        "## NORMALIZATION"
      ],
      "execution_count": 60,
      "outputs": []
    },
    {
      "cell_type": "code",
      "metadata": {
        "id": "LIoTb95vSrsv"
      },
      "source": [
        "x_train=x_train/255"
      ],
      "execution_count": 61,
      "outputs": []
    },
    {
      "cell_type": "code",
      "metadata": {
        "id": "OW1aBPwfSxgI"
      },
      "source": [
        "x_test=x_test/255"
      ],
      "execution_count": 62,
      "outputs": []
    },
    {
      "cell_type": "code",
      "metadata": {
        "colab": {
          "base_uri": "https://localhost:8080/"
        },
        "id": "_r91THFVS0B_",
        "outputId": "f6094223-77a7-493a-f240-c8ef0c4e4389"
      },
      "source": [
        "x_train.max()"
      ],
      "execution_count": 63,
      "outputs": [
        {
          "output_type": "execute_result",
          "data": {
            "text/plain": [
              "1.0"
            ]
          },
          "metadata": {
            "tags": []
          },
          "execution_count": 63
        }
      ]
    },
    {
      "cell_type": "code",
      "metadata": {
        "id": "px3H_zpKTK6a"
      },
      "source": [
        "## RESHAPE DATA"
      ],
      "execution_count": 64,
      "outputs": []
    },
    {
      "cell_type": "code",
      "metadata": {
        "colab": {
          "base_uri": "https://localhost:8080/"
        },
        "id": "dEM3uaiaTN7D",
        "outputId": "02ab3628-2350-43a0-d7a2-519ea2c6bc0a"
      },
      "source": [
        "x_train.shape,x_test.shape"
      ],
      "execution_count": 65,
      "outputs": [
        {
          "output_type": "execute_result",
          "data": {
            "text/plain": [
              "((60000, 28, 28), (10000, 28, 28))"
            ]
          },
          "metadata": {
            "tags": []
          },
          "execution_count": 65
        }
      ]
    },
    {
      "cell_type": "code",
      "metadata": {
        "id": "5vU3zlJHTQqj"
      },
      "source": [
        "x_train=x_train.reshape(60000,28,28,1)"
      ],
      "execution_count": 66,
      "outputs": []
    },
    {
      "cell_type": "code",
      "metadata": {
        "id": "0kbrtyPpTWzG"
      },
      "source": [
        "x_test=x_test.reshape(10000,28,28,1)"
      ],
      "execution_count": 67,
      "outputs": []
    },
    {
      "cell_type": "code",
      "metadata": {
        "id": "MgnFq1BzTqcL"
      },
      "source": [
        ""
      ],
      "execution_count": 67,
      "outputs": []
    },
    {
      "cell_type": "markdown",
      "metadata": {
        "id": "g4fhmxp4TkUP"
      },
      "source": [
        "## CREATING MODEL"
      ]
    },
    {
      "cell_type": "code",
      "metadata": {
        "id": "uWuoq23iToO3"
      },
      "source": [
        "from tensorflow.keras.models import Sequential"
      ],
      "execution_count": 68,
      "outputs": []
    },
    {
      "cell_type": "code",
      "metadata": {
        "id": "4yvAx2DgTyNf"
      },
      "source": [
        "from tensorflow.keras.layers import Dense,Conv2D,MaxPool2D,Flatten"
      ],
      "execution_count": 69,
      "outputs": []
    },
    {
      "cell_type": "code",
      "metadata": {
        "id": "6ximjmD-UBmq"
      },
      "source": [
        "model=Sequential()\r\n",
        "\r\n",
        "\r\n",
        "model.add(Conv2D(filters=32,kernel_size=(4,4),strides=(1,1),padding='valid',input_shape=(28,28,1),activation='relu'))\r\n",
        "model.add(MaxPool2D(pool_size=(2,2)))\r\n",
        "model.add(Flatten())\r\n",
        "model.add(Dense(128,activation='relu'))\r\n",
        "model.add(Dense(10,activation='softmax'))\r\n",
        "\r\n",
        "model.compile(loss='categorical_crossentropy',optimizer='adam',metrics=['accuracy'])\r\n",
        "\r\n",
        "\r\n"
      ],
      "execution_count": 70,
      "outputs": []
    },
    {
      "cell_type": "code",
      "metadata": {
        "id": "OBXOtOLLXsfA"
      },
      "source": [
        "from tensorflow.keras.callbacks import EarlyStopping"
      ],
      "execution_count": 71,
      "outputs": []
    },
    {
      "cell_type": "code",
      "metadata": {
        "id": "vYiW4h-KYtxg"
      },
      "source": [
        "early_stop=EarlyStopping(monitor='val_loss',patience=1)"
      ],
      "execution_count": 72,
      "outputs": []
    },
    {
      "cell_type": "code",
      "metadata": {
        "colab": {
          "base_uri": "https://localhost:8080/"
        },
        "id": "Q7bugMjAY1qE",
        "outputId": "201a5fd7-f02c-41bd-80c5-125bf71403e9"
      },
      "source": [
        "model.fit(x_train,y_train,epochs=10,validation_data=(x_test,y_test),callbacks=[early_stop])"
      ],
      "execution_count": 73,
      "outputs": [
        {
          "output_type": "stream",
          "text": [
            "Epoch 1/10\n",
            "1875/1875 [==============================] - 6s 3ms/step - loss: 0.2842 - accuracy: 0.9172 - val_loss: 0.0536 - val_accuracy: 0.9836\n",
            "Epoch 2/10\n",
            "1875/1875 [==============================] - 5s 3ms/step - loss: 0.0500 - accuracy: 0.9847 - val_loss: 0.0406 - val_accuracy: 0.9867\n",
            "Epoch 3/10\n",
            "1875/1875 [==============================] - 5s 3ms/step - loss: 0.0296 - accuracy: 0.9900 - val_loss: 0.0476 - val_accuracy: 0.9848\n"
          ],
          "name": "stdout"
        },
        {
          "output_type": "execute_result",
          "data": {
            "text/plain": [
              "<tensorflow.python.keras.callbacks.History at 0x7fa3cd427278>"
            ]
          },
          "metadata": {
            "tags": []
          },
          "execution_count": 73
        }
      ]
    },
    {
      "cell_type": "code",
      "metadata": {
        "id": "ZE7OHx1OZEcW"
      },
      "source": [
        "model.save('/content/drive/MyDrive/hand_writtien_digit_recognition.h5')"
      ],
      "execution_count": 74,
      "outputs": []
    },
    {
      "cell_type": "markdown",
      "metadata": {
        "id": "xMlUFaEVZyCw"
      },
      "source": [
        "## EVALUATING MODEL\r\n"
      ]
    },
    {
      "cell_type": "code",
      "metadata": {
        "colab": {
          "base_uri": "https://localhost:8080/"
        },
        "id": "dHBumjQe5hPm",
        "outputId": "c17dcefb-aa92-4fc3-a443-85fe5134c218"
      },
      "source": [
        "model.history.history"
      ],
      "execution_count": 75,
      "outputs": [
        {
          "output_type": "execute_result",
          "data": {
            "text/plain": [
              "{'accuracy': [0.9598000049591064, 0.9851499795913696, 0.9901666641235352],\n",
              " 'loss': [0.13731011748313904, 0.04833557829260826, 0.03088124468922615],\n",
              " 'val_accuracy': [0.9836000204086304, 0.9866999983787537, 0.9847999811172485],\n",
              " 'val_loss': [0.05361767113208771, 0.04057655483484268, 0.04759962484240532]}"
            ]
          },
          "metadata": {
            "tags": []
          },
          "execution_count": 75
        }
      ]
    },
    {
      "cell_type": "code",
      "metadata": {
        "id": "SreOY1cm5mcG"
      },
      "source": [
        "metrics=pd.DataFrame(model.history.history)"
      ],
      "execution_count": 76,
      "outputs": []
    },
    {
      "cell_type": "code",
      "metadata": {
        "id": "958Gu7XD3oVP"
      },
      "source": [
        "from sklearn.metrics import confusion_matrix,classification_report"
      ],
      "execution_count": 77,
      "outputs": []
    },
    {
      "cell_type": "code",
      "metadata": {
        "colab": {
          "base_uri": "https://localhost:8080/"
        },
        "id": "2zY_cNii3yhJ",
        "outputId": "517f08d9-6c35-475a-a642-9ca4d6606530"
      },
      "source": [
        "predictions=model.predict_classes(x_test)"
      ],
      "execution_count": 78,
      "outputs": [
        {
          "output_type": "stream",
          "text": [
            "/usr/local/lib/python3.6/dist-packages/tensorflow/python/keras/engine/sequential.py:450: UserWarning: `model.predict_classes()` is deprecated and will be removed after 2021-01-01. Please use instead:* `np.argmax(model.predict(x), axis=-1)`,   if your model does multi-class classification   (e.g. if it uses a `softmax` last-layer activation).* `(model.predict(x) > 0.5).astype(\"int32\")`,   if your model does binary classification   (e.g. if it uses a `sigmoid` last-layer activation).\n",
            "  warnings.warn('`model.predict_classes()` is deprecated and '\n"
          ],
          "name": "stderr"
        }
      ]
    },
    {
      "cell_type": "code",
      "metadata": {
        "colab": {
          "base_uri": "https://localhost:8080/"
        },
        "id": "jyDwzO-a37rK",
        "outputId": "76abd200-ca5f-4022-8651-d3d923ab97f4"
      },
      "source": [
        "predictions[:5]"
      ],
      "execution_count": 79,
      "outputs": [
        {
          "output_type": "execute_result",
          "data": {
            "text/plain": [
              "array([7, 2, 1, 0, 4])"
            ]
          },
          "metadata": {
            "tags": []
          },
          "execution_count": 79
        }
      ]
    },
    {
      "cell_type": "code",
      "metadata": {
        "id": "e9jkVTof4Cxt"
      },
      "source": [
        "import seaborn as sns"
      ],
      "execution_count": 80,
      "outputs": []
    },
    {
      "cell_type": "code",
      "metadata": {
        "colab": {
          "base_uri": "https://localhost:8080/"
        },
        "id": "LsMogS2a4Q6c",
        "outputId": "e687bf9e-4448-4c29-8554-dcef43c2358e"
      },
      "source": [
        "y_test1[:5]"
      ],
      "execution_count": 81,
      "outputs": [
        {
          "output_type": "execute_result",
          "data": {
            "text/plain": [
              "array([7, 2, 1, 0, 4], dtype=uint8)"
            ]
          },
          "metadata": {
            "tags": []
          },
          "execution_count": 81
        }
      ]
    },
    {
      "cell_type": "code",
      "metadata": {
        "colab": {
          "base_uri": "https://localhost:8080/"
        },
        "id": "4FZxD8Mj4Hd6",
        "outputId": "3cd85526-812c-4309-c534-9570817b4ac0"
      },
      "source": [
        "print(classification_report(y_test1,predictions))"
      ],
      "execution_count": 82,
      "outputs": [
        {
          "output_type": "stream",
          "text": [
            "              precision    recall  f1-score   support\n",
            "\n",
            "           0       0.98      1.00      0.99       980\n",
            "           1       0.99      1.00      0.99      1135\n",
            "           2       0.99      0.98      0.99      1032\n",
            "           3       0.99      0.97      0.98      1010\n",
            "           4       0.99      0.99      0.99       982\n",
            "           5       0.97      1.00      0.98       892\n",
            "           6       1.00      0.98      0.99       958\n",
            "           7       0.97      0.99      0.98      1028\n",
            "           8       0.98      0.99      0.98       974\n",
            "           9       0.99      0.96      0.97      1009\n",
            "\n",
            "    accuracy                           0.98     10000\n",
            "   macro avg       0.98      0.98      0.98     10000\n",
            "weighted avg       0.98      0.98      0.98     10000\n",
            "\n"
          ],
          "name": "stdout"
        }
      ]
    },
    {
      "cell_type": "code",
      "metadata": {
        "colab": {
          "base_uri": "https://localhost:8080/",
          "height": 282
        },
        "id": "7yUyEm4H4M-z",
        "outputId": "43d2baeb-d9e3-4659-856b-dc5b238f3780"
      },
      "source": [
        "sns.heatmap(confusion_matrix(y_test1,predictions),annot=True)"
      ],
      "execution_count": 83,
      "outputs": [
        {
          "output_type": "execute_result",
          "data": {
            "text/plain": [
              "<matplotlib.axes._subplots.AxesSubplot at 0x7fa3ca29bb70>"
            ]
          },
          "metadata": {
            "tags": []
          },
          "execution_count": 83
        },
        {
          "output_type": "display_data",
          "data": {
            "image/png": "[encoded data removed]",
            "text/plain": [
              "<Figure size 432x288 with 2 Axes>"
            ]
          },
          "metadata": {
            "tags": [],
            "needs_background": "light"
          }
        }
      ]
    },
    {
      "cell_type": "code",
      "metadata": {
        "colab": {
          "base_uri": "https://localhost:8080/"
        },
        "id": "k31M3XJb4rjf",
        "outputId": "34945d48-3a93-4b6f-889b-55a91252187c"
      },
      "source": [
        "model.history.history"
      ],
      "execution_count": 84,
      "outputs": [
        {
          "output_type": "execute_result",
          "data": {
            "text/plain": [
              "{}"
            ]
          },
          "metadata": {
            "tags": []
          },
          "execution_count": 84
        }
      ]
    },
    {
      "cell_type": "code",
      "metadata": {
        "colab": {
          "base_uri": "https://localhost:8080/",
          "height": 282
        },
        "id": "Uv4K1p5V48V7",
        "outputId": "24da6a3d-464c-4a6f-d494-732c73fe786d"
      },
      "source": [
        "metrics[[\"loss\",\"val_loss\"]].plot()"
      ],
      "execution_count": 87,
      "outputs": [
        {
          "output_type": "execute_result",
          "data": {
            "text/plain": [
              "<matplotlib.axes._subplots.AxesSubplot at 0x7fa3cb8f31d0>"
            ]
          },
          "metadata": {
            "tags": []
          },
          "execution_count": 87
        },
        {
          "output_type": "display_data",
          "data": {
            "image/png": "[encoded data removed]",
            "text/plain": [
              "<Figure size 432x288 with 1 Axes>"
            ]
          },
          "metadata": {
            "tags": [],
            "needs_background": "light"
          }
        }
      ]
    },
    {
      "cell_type": "code",
      "metadata": {
        "colab": {
          "base_uri": "https://localhost:8080/",
          "height": 282
        },
        "id": "mjRcH-jg5I-a",
        "outputId": "31a324d9-4726-41fd-ebfe-8ac768bfffa0"
      },
      "source": [
        "metrics[[\"accuracy\",\"val_accuracy\"]].plot()"
      ],
      "execution_count": 88,
      "outputs": [
        {
          "output_type": "execute_result",
          "data": {
            "text/plain": [
              "<matplotlib.axes._subplots.AxesSubplot at 0x7fa3cb8747f0>"
            ]
          },
          "metadata": {
            "tags": []
          },
          "execution_count": 88
        },
        {
          "output_type": "display_data",
          "data": {
            "image/png": "[encoded data removed]",
            "text/plain": [
              "<Figure size 432x288 with 1 Axes>"
            ]
          },
          "metadata": {
            "tags": [],
            "needs_background": "light"
          }
        }
      ]
    },
    {
      "cell_type": "markdown",
      "metadata": {
        "id": "Y56wg3kR7e_a"
      },
      "source": [
        "## TESTING MODEL"
      ]
    },
    {
      "cell_type": "code",
      "metadata": {
        "id": "Vk3clC8u7kaP"
      },
      "source": [
        "sample_image=x_test[0]"
      ],
      "execution_count": 89,
      "outputs": []
    },
    {
      "cell_type": "code",
      "metadata": {
        "colab": {
          "base_uri": "https://localhost:8080/",
          "height": 282
        },
        "id": "ERHMTfb87rad",
        "outputId": "59fc555a-214b-4667-8da1-3b48f6a15861"
      },
      "source": [
        "plt.imshow(sample_image.reshape(28,28))"
      ],
      "execution_count": 91,
      "outputs": [
        {
          "output_type": "execute_result",
          "data": {
            "text/plain": [
              "<matplotlib.image.AxesImage at 0x7fa3cb4412b0>"
            ]
          },
          "metadata": {
            "tags": []
          },
          "execution_count": 91
        },
        {
          "output_type": "display_data",
          "data": {
            "image/png": "[encoded data removed]",
            "text/plain": [
              "<Figure size 432x288 with 1 Axes>"
            ]
          },
          "metadata": {
            "tags": [],
            "needs_background": "light"
          }
        }
      ]
    },
    {
      "cell_type": "code",
      "metadata": {
        "colab": {
          "base_uri": "https://localhost:8080/"
        },
        "id": "fM5cZxLw7uWm",
        "outputId": "1880673e-61b5-44ab-d64c-897e75a065d8"
      },
      "source": [
        "model.predict_classes(sample_image.reshape(1,28,28,1))"
      ],
      "execution_count": 93,
      "outputs": [
        {
          "output_type": "stream",
          "text": [
            "/usr/local/lib/python3.6/dist-packages/tensorflow/python/keras/engine/sequential.py:450: UserWarning: `model.predict_classes()` is deprecated and will be removed after 2021-01-01. Please use instead:* `np.argmax(model.predict(x), axis=-1)`,   if your model does multi-class classification   (e.g. if it uses a `softmax` last-layer activation).* `(model.predict(x) > 0.5).astype(\"int32\")`,   if your model does binary classification   (e.g. if it uses a `sigmoid` last-layer activation).\n",
            "  warnings.warn('`model.predict_classes()` is deprecated and '\n"
          ],
          "name": "stderr"
        },
        {
          "output_type": "execute_result",
          "data": {
            "text/plain": [
              "array([7])"
            ]
          },
          "metadata": {
            "tags": []
          },
          "execution_count": 93
        }
      ]
    },
    {
      "cell_type": "markdown",
      "metadata": {
        "id": "dfdYWz2u7-LW"
      },
      "source": [
        "## IT'S PREDICT ACCURATE VALUE FOR THIS RESULT\r\n",
        "## OUR MODEL ACCURACY IS 0.98 WHICH IS VERY GOOD \r\n",
        "## OUR MODEL IS PERFORMING WELL:-)\r\n",
        "\r\n",
        "## THANK YOU"
      ]
    },
    {
      "cell_type": "code",
      "metadata": {
        "id": "AuhkLarw8TOl"
      },
      "source": [
        ""
      ],
      "execution_count": null,
      "outputs": []
    }
  ]
}